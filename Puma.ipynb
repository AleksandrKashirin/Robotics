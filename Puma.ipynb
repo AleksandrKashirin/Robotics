{
 "cells": [
  {
   "cell_type": "markdown",
   "metadata": {},
   "source": [
    "**Assignment 3: Puma 560 Kinematics**\n",
    "\n",
    "**Kashirin Aleksandr**\n",
    "\n",
    "**Skoltech 2021**\n",
    "\n",
    "**Task: Using Denavit-Hartenberg notation:**\n",
    "* a) Find link parameters for the Denavit-Hartenberg table\n",
    "* b) Find transformation matrices: $T^0_1, T^1_2, T^2_3, T^3_4, T^4_5, T^5_6$\n",
    "* c) Find transformation matrix for ender position: $T^0_6$\n",
    "* d) Find end-effector position\n",
    "\n",
    "**I. Rules of frames implementation for Denavit-Hartenberg notation:**\n",
    "* 1) The Z-axis is the axis of rotation for a revolute joint or an axis\n",
    "* 2) The X-axis must be perpendicular to both the current Z-axis and the previous Z-axis.\n",
    "* 3) The Y-axis is determined from X-axis and Z-axis by using right-hand-rule coordinate system.\n",
    "* 4) The X-axis must intersect the previous Z-axis (Rule does not apply to frame 0).\n",
    "\n",
    "**II. Denavit-Hartenberg notation:**\n",
    "* $\\alpha_{i-1} -$ is the angle from $Z_{i-1}$ to $Z_i$ measured about $X_{i-1}$ axis.\n",
    "* $a_{i-1} -$ is the the distance from $Z_{i-1}$ to $Z_i$ measured along $X_{i-1}$ axis.\n",
    "* $d_i -$ is the distance from $X_{i-1}$ to $X_i$ measured along $Z_i$ axis.\n",
    "* $\\theta_i -$ is the angle from $X_{i-1}$ to $X_i$ measured about $Z_i$ axis.\n",
    "\n",
    "**III. Fill the table with link parameters. Amount of rows in this table should be determined as amount of assigned frames - 1.**\n",
    "\n",
    "\\begin{array}{c|c}\n",
    "  i & \\alpha_{i-1} & a_{i-1} & d_i & \\theta_i \\\\ \n",
    "  \\hline\n",
    "  ... & ... & ... & ... & ... \\\\\n",
    "  \\hline\n",
    "  N_{frames} - 1 & ... & ... & ... & ...\n",
    "\\end{array}\n",
    "\n",
    "**IV. After determining link parameters using Denavit-Hartenberg notation, fill the transformation matrix:**\n",
    "$$ T_i^{i-1} =  \\begin{bmatrix} \n",
    "                  \\cos{\\theta_i} & -\\sin{\\theta_i} & 0 & a_{i-1} \\\\ \n",
    "                  \\sin{\\theta_i}\\cos{\\alpha_{i-1}} & \\cos{\\theta_i}\\cos{\\alpha_{i-1}} & -\\sin{\\alpha_{i-1}} & -\\sin{\\alpha_{i-1}}d_i \\\\ \n",
    "                  \\sin{\\theta_i}\\sin{\\alpha_{i-1}} & \\cos{\\theta_i}\\sin{\\alpha_{i-1}} & \\cos{\\alpha_{i-1}} &  \\cos{\\alpha_{i-1}}d_i \\\\\n",
    "                  0 & 0 & 0 & 1\n",
    "                \\end{bmatrix}$$\n",
    "\n",
    "**V. Find the transformation matrix for end-effector position:**\n",
    "$$T_N^0 = T^0_1 T^1_2 T^2_3 T^3_4 ... T^{N-1}_N$$\n",
    "\n",
    "![Puma 560](https://vuzlit.ru/imag_/8/4954/image001.png)\n",
    "\n",
    "*Picture 1: Puma 560, Robot representation*\n",
    "\n",
    "![title](https://d2t1xqejof9utc.cloudfront.net/screenshots/pics/3de1bda158ba2707a5554bc6909246fa/large.png)\n",
    "\n",
    "*Picture 2: Assigned frames*\n",
    "\n",
    "**Task a: Find link parameters**\n",
    "\n",
    "We have 7 frames, hence the table will be consisted of 6 rows.\n",
    "\n",
    "\\begin{array}{c|c}\n",
    "  i & \\alpha_{i-1} & a_{i-1} & d_i & \\theta_i \\\\ \n",
    "  \\hline\n",
    "  1 & 0 & 0 & 0 & \\theta_1 \\\\\n",
    "  \\hline\n",
    "  2 & -\\frac{\\pi}{2} & 0 & 0 & \\theta_2 \\\\\n",
    "  \\hline\n",
    "  3 & 0 & a_2 & d_3 & \\theta_3 \\\\\n",
    "  \\hline\n",
    "  4 & -\\frac{\\pi}{2} & a_3 & d_4 & \\theta_4 \\\\\n",
    "  \\hline\n",
    "  5 & \\frac{\\pi}{2} & 0 & 0 & \\theta_5 \\\\\n",
    "  \\hline\n",
    "  6 & -\\frac{\\pi}{2} & 0 & 0 & \\theta_6 \\\\\n",
    "  \\hline\n",
    "\\end{array}\n",
    "\n",
    "**Task b: Find transformation matrices: $T^0_1, T^1_2, T^2_3, T^3_4, T^4_5, T^5_6$**"
   ]
  },
  {
   "cell_type": "code",
   "execution_count": 11,
   "metadata": {},
   "outputs": [
    {
     "data": {
      "text/latex": [
       "$\\displaystyle \\left[\\begin{matrix}\\cos{\\left(\\theta_{4} \\right)} & - \\sin{\\left(\\theta_{4} \\right)} & 0 & a_{3}\\\\0 & 0 & 1 & d_{4}\\\\- \\sin{\\left(\\theta_{4} \\right)} & - \\cos{\\left(\\theta_{4} \\right)} & 0 & 0\\\\0 & 0 & 0 & 1\\end{matrix}\\right]$"
      ],
      "text/plain": [
       "Matrix([\n",
       "[ cos(theta_4), -sin(theta_4), 0, a_3],\n",
       "[            0,             0, 1, d_4],\n",
       "[-sin(theta_4), -cos(theta_4), 0,   0],\n",
       "[            0,             0, 0,   1]])"
      ]
     },
     "execution_count": 11,
     "metadata": {},
     "output_type": "execute_result"
    }
   ],
   "source": [
    "# Import libraries\n",
    "import sympy as sp\n",
    "import numpy as np\n",
    "\n",
    "# Define symbols\n",
    "t1, t2, t3, t4, t5, t6, a2, a3, d3, d4 = sp.symbols('theta_1 theta_2 theta_3 theta_4 theta_5 theta_6 a_2 a_3 d_3 d_4')\n",
    "\n",
    "# Initialize D-H table parameters\n",
    "alpha = [0, -sp.pi/2, 0, -sp.pi/2, sp.pi/2, -sp.pi/2]\n",
    "a = [0, 0, a2, a3, 0, 0]\n",
    "d = [0, 0, d3, d4, 0, 0]\n",
    "theta = [t1, t2, t3, t4, t5, t6]\n",
    "\n",
    "# Create D-H table\n",
    "DH_table = sp.Matrix([alpha, a, d, theta]).T\n",
    "\n",
    "# Define the function to get transformation matrix\n",
    "def get_tf_matrix(DH_table, i):\n",
    "    \"\"\" Returns transformation matrix between i and i-1 frames\n",
    "\n",
    "    Args:\n",
    "        DH_table - Denavit–Hartenberg table of parameters\n",
    "        i - Frame index\n",
    "\n",
    "    Returns:\n",
    "        T - Tranformation matrix\n",
    "    \"\"\"\n",
    "    if (i - 1) >= 0:\n",
    "        if ((i - 1) <= DH_table.shape[0]):\n",
    "\n",
    "            # Assign the parameters\n",
    "            alpha = DH_table[i - 1 , 0]\n",
    "            a = DH_table[i - 1 , 1]\n",
    "            d = DH_table[i - 1 , 2]\n",
    "            theta = DH_table[i - 1 , 3]\n",
    "\n",
    "            # Calculate transforamtion matrix\n",
    "            T = sp.Matrix([[sp.cos(theta), -sp.sin(theta), 0, a],\n",
    "                           [sp.sin(theta)*sp.cos(alpha), sp.cos(theta)*sp.cos(alpha), -sp.sin(alpha), -sp.sin(alpha)*d],\n",
    "                           [sp.sin(theta)*sp.sin(alpha), sp.cos(theta)*sp.sin(alpha), sp.cos(alpha), sp.cos(alpha)*d],\n",
    "                           [0, 0, 0, 1]])\n",
    "\n",
    "            return sp.simplify(T)\n",
    "        else:\n",
    "            raise ValueError(f'Frame index should less or equal the maximum frame index. Maximum frame index: {DH_table.shape[0]}')\n",
    "    else:\n",
    "        raise ValueError('Frame index should be more than 0')\n",
    "\n",
    "# Print T_0_1 - transforamtion matrix between 0 and 1 frames\n",
    "get_tf_matrix(DH_table, 4)"
   ]
  },
  {
   "cell_type": "markdown",
   "metadata": {},
   "source": [
    " **Task c: Find transformation matrix for ender position: $T^0_6$**"
   ]
  },
  {
   "cell_type": "code",
   "execution_count": 2,
   "metadata": {},
   "outputs": [
    {
     "data": {
      "text/latex": [
       "$\\displaystyle \\left[\\begin{matrix}\\left(\\left(\\sin{\\left(\\theta_{1} \\right)} \\sin{\\left(\\theta_{4} \\right)} + \\cos{\\left(\\theta_{1} \\right)} \\cos{\\left(\\theta_{4} \\right)} \\cos{\\left(\\theta_{2} + \\theta_{3} \\right)}\\right) \\cos{\\left(\\theta_{5} \\right)} - \\sin{\\left(\\theta_{5} \\right)} \\sin{\\left(\\theta_{2} + \\theta_{3} \\right)} \\cos{\\left(\\theta_{1} \\right)}\\right) \\cos{\\left(\\theta_{6} \\right)} - \\left(- \\sin{\\left(\\theta_{1} \\right)} \\cos{\\left(\\theta_{4} \\right)} + \\sin{\\left(\\theta_{4} \\right)} \\cos{\\left(\\theta_{1} \\right)} \\cos{\\left(\\theta_{2} + \\theta_{3} \\right)}\\right) \\sin{\\left(\\theta_{6} \\right)} & - \\left(\\left(\\sin{\\left(\\theta_{1} \\right)} \\sin{\\left(\\theta_{4} \\right)} + \\cos{\\left(\\theta_{1} \\right)} \\cos{\\left(\\theta_{4} \\right)} \\cos{\\left(\\theta_{2} + \\theta_{3} \\right)}\\right) \\cos{\\left(\\theta_{5} \\right)} - \\sin{\\left(\\theta_{5} \\right)} \\sin{\\left(\\theta_{2} + \\theta_{3} \\right)} \\cos{\\left(\\theta_{1} \\right)}\\right) \\sin{\\left(\\theta_{6} \\right)} - \\left(- \\sin{\\left(\\theta_{1} \\right)} \\cos{\\left(\\theta_{4} \\right)} + \\sin{\\left(\\theta_{4} \\right)} \\cos{\\left(\\theta_{1} \\right)} \\cos{\\left(\\theta_{2} + \\theta_{3} \\right)}\\right) \\cos{\\left(\\theta_{6} \\right)} & - \\left(\\sin{\\left(\\theta_{1} \\right)} \\sin{\\left(\\theta_{4} \\right)} + \\cos{\\left(\\theta_{1} \\right)} \\cos{\\left(\\theta_{4} \\right)} \\cos{\\left(\\theta_{2} + \\theta_{3} \\right)}\\right) \\sin{\\left(\\theta_{5} \\right)} - \\sin{\\left(\\theta_{2} + \\theta_{3} \\right)} \\cos{\\left(\\theta_{1} \\right)} \\cos{\\left(\\theta_{5} \\right)} & a_{2} \\cos{\\left(\\theta_{1} \\right)} \\cos{\\left(\\theta_{2} \\right)} + a_{3} \\cos{\\left(\\theta_{1} \\right)} \\cos{\\left(\\theta_{2} + \\theta_{3} \\right)} - d_{3} \\sin{\\left(\\theta_{1} \\right)} - d_{4} \\sin{\\left(\\theta_{2} + \\theta_{3} \\right)} \\cos{\\left(\\theta_{1} \\right)}\\\\\\left(\\left(\\sin{\\left(\\theta_{1} \\right)} \\cos{\\left(\\theta_{4} \\right)} \\cos{\\left(\\theta_{2} + \\theta_{3} \\right)} - \\sin{\\left(\\theta_{4} \\right)} \\cos{\\left(\\theta_{1} \\right)}\\right) \\cos{\\left(\\theta_{5} \\right)} - \\sin{\\left(\\theta_{1} \\right)} \\sin{\\left(\\theta_{5} \\right)} \\sin{\\left(\\theta_{2} + \\theta_{3} \\right)}\\right) \\cos{\\left(\\theta_{6} \\right)} - \\left(\\sin{\\left(\\theta_{1} \\right)} \\sin{\\left(\\theta_{4} \\right)} \\cos{\\left(\\theta_{2} + \\theta_{3} \\right)} + \\cos{\\left(\\theta_{1} \\right)} \\cos{\\left(\\theta_{4} \\right)}\\right) \\sin{\\left(\\theta_{6} \\right)} & - \\left(\\left(\\sin{\\left(\\theta_{1} \\right)} \\cos{\\left(\\theta_{4} \\right)} \\cos{\\left(\\theta_{2} + \\theta_{3} \\right)} - \\sin{\\left(\\theta_{4} \\right)} \\cos{\\left(\\theta_{1} \\right)}\\right) \\cos{\\left(\\theta_{5} \\right)} - \\sin{\\left(\\theta_{1} \\right)} \\sin{\\left(\\theta_{5} \\right)} \\sin{\\left(\\theta_{2} + \\theta_{3} \\right)}\\right) \\sin{\\left(\\theta_{6} \\right)} - \\left(\\sin{\\left(\\theta_{1} \\right)} \\sin{\\left(\\theta_{4} \\right)} \\cos{\\left(\\theta_{2} + \\theta_{3} \\right)} + \\cos{\\left(\\theta_{1} \\right)} \\cos{\\left(\\theta_{4} \\right)}\\right) \\cos{\\left(\\theta_{6} \\right)} & - \\left(\\sin{\\left(\\theta_{1} \\right)} \\cos{\\left(\\theta_{4} \\right)} \\cos{\\left(\\theta_{2} + \\theta_{3} \\right)} - \\sin{\\left(\\theta_{4} \\right)} \\cos{\\left(\\theta_{1} \\right)}\\right) \\sin{\\left(\\theta_{5} \\right)} - \\sin{\\left(\\theta_{1} \\right)} \\sin{\\left(\\theta_{2} + \\theta_{3} \\right)} \\cos{\\left(\\theta_{5} \\right)} & a_{2} \\sin{\\left(\\theta_{1} \\right)} \\cos{\\left(\\theta_{2} \\right)} + a_{3} \\sin{\\left(\\theta_{1} \\right)} \\cos{\\left(\\theta_{2} + \\theta_{3} \\right)} + d_{3} \\cos{\\left(\\theta_{1} \\right)} - d_{4} \\sin{\\left(\\theta_{1} \\right)} \\sin{\\left(\\theta_{2} + \\theta_{3} \\right)}\\\\- \\left(\\sin{\\left(\\theta_{5} \\right)} \\cos{\\left(\\theta_{2} + \\theta_{3} \\right)} + \\sin{\\left(\\theta_{2} + \\theta_{3} \\right)} \\cos{\\left(\\theta_{4} \\right)} \\cos{\\left(\\theta_{5} \\right)}\\right) \\cos{\\left(\\theta_{6} \\right)} + \\sin{\\left(\\theta_{4} \\right)} \\sin{\\left(\\theta_{6} \\right)} \\sin{\\left(\\theta_{2} + \\theta_{3} \\right)} & \\left(\\sin{\\left(\\theta_{5} \\right)} \\cos{\\left(\\theta_{2} + \\theta_{3} \\right)} + \\sin{\\left(\\theta_{2} + \\theta_{3} \\right)} \\cos{\\left(\\theta_{4} \\right)} \\cos{\\left(\\theta_{5} \\right)}\\right) \\sin{\\left(\\theta_{6} \\right)} + \\sin{\\left(\\theta_{4} \\right)} \\sin{\\left(\\theta_{2} + \\theta_{3} \\right)} \\cos{\\left(\\theta_{6} \\right)} & \\sin{\\left(\\theta_{5} \\right)} \\sin{\\left(\\theta_{2} + \\theta_{3} \\right)} \\cos{\\left(\\theta_{4} \\right)} - \\cos{\\left(\\theta_{5} \\right)} \\cos{\\left(\\theta_{2} + \\theta_{3} \\right)} & - a_{2} \\sin{\\left(\\theta_{2} \\right)} - a_{3} \\sin{\\left(\\theta_{2} + \\theta_{3} \\right)} - d_{4} \\cos{\\left(\\theta_{2} + \\theta_{3} \\right)}\\\\0 & 0 & 0 & 1\\end{matrix}\\right]$"
      ],
      "text/plain": [
       "Matrix([\n",
       "[((sin(theta_1)*sin(theta_4) + cos(theta_1)*cos(theta_4)*cos(theta_2 + theta_3))*cos(theta_5) - sin(theta_5)*sin(theta_2 + theta_3)*cos(theta_1))*cos(theta_6) - (-sin(theta_1)*cos(theta_4) + sin(theta_4)*cos(theta_1)*cos(theta_2 + theta_3))*sin(theta_6), -((sin(theta_1)*sin(theta_4) + cos(theta_1)*cos(theta_4)*cos(theta_2 + theta_3))*cos(theta_5) - sin(theta_5)*sin(theta_2 + theta_3)*cos(theta_1))*sin(theta_6) - (-sin(theta_1)*cos(theta_4) + sin(theta_4)*cos(theta_1)*cos(theta_2 + theta_3))*cos(theta_6), -(sin(theta_1)*sin(theta_4) + cos(theta_1)*cos(theta_4)*cos(theta_2 + theta_3))*sin(theta_5) - sin(theta_2 + theta_3)*cos(theta_1)*cos(theta_5), a_2*cos(theta_1)*cos(theta_2) + a_3*cos(theta_1)*cos(theta_2 + theta_3) - d_3*sin(theta_1) - d_4*sin(theta_2 + theta_3)*cos(theta_1)],\n",
       "[ ((sin(theta_1)*cos(theta_4)*cos(theta_2 + theta_3) - sin(theta_4)*cos(theta_1))*cos(theta_5) - sin(theta_1)*sin(theta_5)*sin(theta_2 + theta_3))*cos(theta_6) - (sin(theta_1)*sin(theta_4)*cos(theta_2 + theta_3) + cos(theta_1)*cos(theta_4))*sin(theta_6),  -((sin(theta_1)*cos(theta_4)*cos(theta_2 + theta_3) - sin(theta_4)*cos(theta_1))*cos(theta_5) - sin(theta_1)*sin(theta_5)*sin(theta_2 + theta_3))*sin(theta_6) - (sin(theta_1)*sin(theta_4)*cos(theta_2 + theta_3) + cos(theta_1)*cos(theta_4))*cos(theta_6), -(sin(theta_1)*cos(theta_4)*cos(theta_2 + theta_3) - sin(theta_4)*cos(theta_1))*sin(theta_5) - sin(theta_1)*sin(theta_2 + theta_3)*cos(theta_5), a_2*sin(theta_1)*cos(theta_2) + a_3*sin(theta_1)*cos(theta_2 + theta_3) + d_3*cos(theta_1) - d_4*sin(theta_1)*sin(theta_2 + theta_3)],\n",
       "[                                                                                                   -(sin(theta_5)*cos(theta_2 + theta_3) + sin(theta_2 + theta_3)*cos(theta_4)*cos(theta_5))*cos(theta_6) + sin(theta_4)*sin(theta_6)*sin(theta_2 + theta_3),                                                                                                      (sin(theta_5)*cos(theta_2 + theta_3) + sin(theta_2 + theta_3)*cos(theta_4)*cos(theta_5))*sin(theta_6) + sin(theta_4)*sin(theta_2 + theta_3)*cos(theta_6),                                                          sin(theta_5)*sin(theta_2 + theta_3)*cos(theta_4) - cos(theta_5)*cos(theta_2 + theta_3),                                                          -a_2*sin(theta_2) - a_3*sin(theta_2 + theta_3) - d_4*cos(theta_2 + theta_3)],\n",
       "[                                                                                                                                                                                                                                                           0,                                                                                                                                                                                                                                                             0,                                                                                                                                               0,                                                                                                                                    1]])"
      ]
     },
     "execution_count": 2,
     "metadata": {},
     "output_type": "execute_result"
    }
   ],
   "source": [
    "# Define a function for end-effector transformation matrix\n",
    "def get_resulted_tf(DH_table):\n",
    "    \"\"\" Returns resulted transforamation matrix for end-effector\n",
    "\n",
    "    Args:\n",
    "        DH_table - Denavit–Hartenberg table of parameters\n",
    "    \n",
    "    Returns:\n",
    "        res_T - Resulted tranformation matrix\n",
    "    \"\"\"\n",
    "    # Initialize list of all transforametion matrices\n",
    "    res_T = 1\n",
    "    for i in range(1, DH_table.shape[0] + 1):\n",
    "        # Append new transforamtion matrix\n",
    "        res_T *= get_tf_matrix(DH_table, i)\n",
    "    return sp.trigsimp(res_T)\n",
    "\n",
    "# Print the resulted transformation matrix\n",
    "res_T = get_resulted_tf(DH_table)\n",
    "res_T"
   ]
  },
  {
   "cell_type": "markdown",
   "metadata": {},
   "source": [
    "**Task d: Find end-effector position**"
   ]
  },
  {
   "cell_type": "code",
   "execution_count": 3,
   "metadata": {},
   "outputs": [
    {
     "data": {
      "text/latex": [
       "$\\displaystyle \\left[\\begin{matrix}a_{2} \\cos{\\left(\\theta_{1} \\right)} \\cos{\\left(\\theta_{2} \\right)} + a_{3} \\cos{\\left(\\theta_{1} \\right)} \\cos{\\left(\\theta_{2} + \\theta_{3} \\right)} - d_{3} \\sin{\\left(\\theta_{1} \\right)} - d_{4} \\sin{\\left(\\theta_{2} + \\theta_{3} \\right)} \\cos{\\left(\\theta_{1} \\right)}\\\\a_{2} \\sin{\\left(\\theta_{1} \\right)} \\cos{\\left(\\theta_{2} \\right)} + a_{3} \\sin{\\left(\\theta_{1} \\right)} \\cos{\\left(\\theta_{2} + \\theta_{3} \\right)} + d_{3} \\cos{\\left(\\theta_{1} \\right)} - d_{4} \\sin{\\left(\\theta_{1} \\right)} \\sin{\\left(\\theta_{2} + \\theta_{3} \\right)}\\\\- a_{2} \\sin{\\left(\\theta_{2} \\right)} - a_{3} \\sin{\\left(\\theta_{2} + \\theta_{3} \\right)} - d_{4} \\cos{\\left(\\theta_{2} + \\theta_{3} \\right)}\\end{matrix}\\right]$"
      ],
      "text/plain": [
       "Matrix([\n",
       "[a_2*cos(theta_1)*cos(theta_2) + a_3*cos(theta_1)*cos(theta_2 + theta_3) - d_3*sin(theta_1) - d_4*sin(theta_2 + theta_3)*cos(theta_1)],\n",
       "[a_2*sin(theta_1)*cos(theta_2) + a_3*sin(theta_1)*cos(theta_2 + theta_3) + d_3*cos(theta_1) - d_4*sin(theta_1)*sin(theta_2 + theta_3)],\n",
       "[                                                         -a_2*sin(theta_2) - a_3*sin(theta_2 + theta_3) - d_4*cos(theta_2 + theta_3)]])"
      ]
     },
     "execution_count": 3,
     "metadata": {},
     "output_type": "execute_result"
    }
   ],
   "source": [
    "\n",
    "# Define a function to find an end-effector position\n",
    "def find_ef_pos(res_T):\n",
    "    \"\"\" Returns end-effector position\n",
    "\n",
    "    Args:\n",
    "        res_T - Resulted tranformation matrix\n",
    "    \n",
    "    Returns:\n",
    "        pos - End-effector position\n",
    "    \"\"\"\n",
    "    pos = res_T[:3, 3]\n",
    "    return sp.trigsimp(pos)\n",
    "    \n",
    "# Print end-effector position\n",
    "pos = find_ef_pos(res_T)\n",
    "pos"
   ]
  },
  {
   "cell_type": "markdown",
   "metadata": {},
   "source": [
    "**Get the numerical answer**"
   ]
  },
  {
   "cell_type": "code",
   "execution_count": 4,
   "metadata": {},
   "outputs": [
    {
     "name": "stdout",
     "output_type": "stream",
     "text": [
      "Denavit-Hartenberg numerical table:\n",
      "[[  0.     0.     0.     0.79]\n",
      " [ -1.57   0.     0.     1.05]\n",
      " [  0.   340.    90.     1.31]\n",
      " [ -1.57  25.   260.     0.  ]\n",
      " [  1.57   0.     0.     0.  ]\n",
      " [ -1.57   0.     0.     0.  ]]\n"
     ]
    }
   ],
   "source": [
    "# Initialize parameters\n",
    "params = (t1, t2, t3, t4, t5, t6, a2, a3, d3, d4)\n",
    "# Define conversation function for D-H table\n",
    "dh_sym2num = sp.lambdify(params, DH_table, modules='numpy')\n",
    "\n",
    "# Set numerical parameters\n",
    "theta_1 = np.deg2rad(45)  # Angle between 0 and 1 frames\n",
    "theta_2 = np.deg2rad(60)  # Angle between 1 and 2 frames\n",
    "theta_3 = np.deg2rad(75)  # Angle between 2 and 3 frames\n",
    "theta_4 = 0  # Angle between 3 and 4 frames\n",
    "theta_5 = 0  # Angle between 4 and 5 frames\n",
    "theta_6 = 0  # Angle between 5 and 6 frames\n",
    "a_2 = 340  # Link length a_2\n",
    "a_3 = 25  # Link length a_3\n",
    "d_3 = 90  # Displacement length d_3\n",
    "d_4 = 260  # displacement length d_4\n",
    "\n",
    "# Combine numerical parameters\n",
    "num_params = (theta_1, theta_2, theta_3, theta_4, theta_5, theta_6, a_2, a_3, d_3, d_4)\n",
    "\n",
    "# Get numerical D-H table\n",
    "DH_numerical = dh_sym2num(*num_params)\n",
    "print('Denavit-Hartenberg numerical table:')\n",
    "print(DH_numerical.round(2))"
   ]
  },
  {
   "cell_type": "code",
   "execution_count": 13,
   "metadata": {},
   "outputs": [
    {
     "name": "stdout",
     "output_type": "stream",
     "text": [
      "Numerical tranformation matrix between 6 and 5 frames:\n",
      "[[ 1. -0.  0.  0.]\n",
      " [ 0.  0.  1.  0.]\n",
      " [-0. -1.  0.  0.]\n",
      " [ 0.  0.  0.  1.]]\n"
     ]
    }
   ],
   "source": [
    "# Get desired transformation matrix\n",
    "i = 6  # Set desired frame index\n",
    "tf = get_tf_matrix(DH_table, i)\n",
    "f_tf = sp.lambdify(params, tf)\n",
    "print(f'Numerical tranformation matrix between {i} and {i-1} frames:')\n",
    "print(f_tf(*num_params))"
   ]
  },
  {
   "cell_type": "code",
   "execution_count": 6,
   "metadata": {},
   "outputs": [
    {
     "name": "stdout",
     "output_type": "stream",
     "text": [
      "Transformation matrix for end-effector:\n",
      "[[  -0.5           0.70710678   -0.5         -85.93145751]\n",
      " [  -0.5          -0.70710678   -0.5          41.34776311]\n",
      " [  -0.70710678    0.            0.70710678 -128.27854371]\n",
      " [   0.            0.            0.            1.        ]]\n"
     ]
    }
   ],
   "source": [
    "# Get resulted transformation matrix for end-effector:\n",
    "f_res = sp.lambdify(params, res_T)\n",
    "print(f'Transformation matrix for end-effector:')\n",
    "print(f_res(*num_params))"
   ]
  },
  {
   "cell_type": "code",
   "execution_count": 7,
   "metadata": {},
   "outputs": [
    {
     "name": "stdout",
     "output_type": "stream",
     "text": [
      "End-effector position:\n",
      "[[ -85.93145751]\n",
      " [  41.34776311]\n",
      " [-128.27854371]]\n"
     ]
    }
   ],
   "source": [
    "# Get position for end-effector:\n",
    "f_pos = sp.lambdify(params, pos)\n",
    "print(f'End-effector position:')\n",
    "print(f_pos(*num_params))"
   ]
  },
  {
   "cell_type": "markdown",
   "metadata": {},
   "source": [
    "**Conclusion: Denavit-Hartenberg is a powerful tool to solve forward kinematics for robotic arms. This notebook was prepared in a way to let it use in future work. Simply fill the table with parameters and set numerical parameters in the second part of the notebook.**"
   ]
  }
 ],
 "metadata": {
  "interpreter": {
   "hash": "2647ea34e536f865ab67ff9ddee7fd78773d956cec0cab53c79b32cd10da5d83"
  },
  "kernelspec": {
   "display_name": "Python 3.9.2 64-bit",
   "language": "python",
   "name": "python3"
  },
  "language_info": {
   "codemirror_mode": {
    "name": "ipython",
    "version": 3
   },
   "file_extension": ".py",
   "mimetype": "text/x-python",
   "name": "python",
   "nbconvert_exporter": "python",
   "pygments_lexer": "ipython3",
   "version": "3.9.2"
  },
  "orig_nbformat": 4
 },
 "nbformat": 4,
 "nbformat_minor": 2
}
